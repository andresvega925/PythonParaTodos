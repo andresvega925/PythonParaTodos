{
 "cells": [
  {
   "cell_type": "markdown",
   "metadata": {},
   "source": [
    "# Controles de flujo\n",
    "* Condicionales\n",
    "    * if\n",
    "* Ciclos\n",
    "    * for\n",
    "    * while"
   ]
  },
  {
   "cell_type": "markdown",
   "metadata": {},
   "source": [
    "## Condicional IF"
   ]
  },
  {
   "cell_type": "code",
   "execution_count": 26,
   "metadata": {},
   "outputs": [
    {
     "name": "stdout",
     "output_type": "stream",
     "text": [
      "b es menor que a\n"
     ]
    }
   ],
   "source": [
    "a = 100\n",
    "b = 20\n",
    "c = 20\n",
    "if a < b:\n",
    "    print(\"a es menor que b\")\n",
    "elif a == b:\n",
    "    print(\"son iguales\")\n",
    "else:\n",
    "    print(\"b es menor que a\")"
   ]
  },
  {
   "cell_type": "code",
   "execution_count": 28,
   "metadata": {},
   "outputs": [
    {
     "name": "stdout",
     "output_type": "stream",
     "text": [
      "a es mayor o igual que b, pero menor que c\n"
     ]
    }
   ],
   "source": [
    "if a < c or a > b:\n",
    "    if a >= b and b == c:\n",
    "        print(\"a es mayor o igual que b, pero menor que c\")\n",
    "        \n",
    "    else:\n",
    "        print(\"b es mayor que a\")\n",
    "else:\n",
    "    print(\"a es mayor o igual que c\")"
   ]
  },
  {
   "cell_type": "markdown",
   "metadata": {},
   "source": [
    "# Ciclo for"
   ]
  },
  {
   "cell_type": "code",
   "execution_count": 38,
   "metadata": {},
   "outputs": [
    {
     "name": "stdout",
     "output_type": "stream",
     "text": [
      "0\n",
      "1\n",
      "2\n",
      "3\n",
      "4\n"
     ]
    }
   ],
   "source": [
    "#for con rango\n",
    "for i in range(5):\n",
    "    print(i)"
   ]
  },
  {
   "cell_type": "code",
   "execution_count": 43,
   "metadata": {},
   "outputs": [
    {
     "name": "stdout",
     "output_type": "stream",
     "text": [
      "0\n",
      "1\n",
      "2\n",
      "3\n",
      "4\n",
      "5\n",
      "6\n",
      "7\n",
      "8\n",
      "9\n",
      "10\n",
      "11\n",
      "12\n",
      "13\n",
      "14\n",
      "15\n",
      "16\n",
      "17\n"
     ]
    }
   ],
   "source": [
    "#for con rango de inicio y r. fu¿inal\n",
    "for i in range(0,18): #(n - 1)\n",
    "    print(i)"
   ]
  },
  {
   "cell_type": "code",
   "execution_count": 45,
   "metadata": {},
   "outputs": [
    {
     "name": "stdout",
     "output_type": "stream",
     "text": [
      "-300\n",
      "-280\n",
      "-260\n",
      "-240\n",
      "-220\n",
      "-200\n",
      "-180\n",
      "-160\n",
      "-140\n",
      "-120\n",
      "-100\n",
      "-80\n",
      "-60\n",
      "-40\n",
      "-20\n",
      "0\n",
      "20\n",
      "40\n",
      "60\n",
      "80\n",
      "100\n",
      "120\n",
      "140\n",
      "160\n",
      "180\n"
     ]
    }
   ],
   "source": [
    "for i in range(-300,200,20):\n",
    "    print(i)"
   ]
  },
  {
   "cell_type": "code",
   "execution_count": 47,
   "metadata": {},
   "outputs": [
    {
     "name": "stdout",
     "output_type": "stream",
     "text": [
      "uno\n",
      "dos\n",
      "tres\n",
      "perros\n"
     ]
    }
   ],
   "source": [
    "lista = [\"uno\",\"dos\",\"tres\",\"perros\"]\n",
    "for cont in lista:\n",
    "    print(cont)"
   ]
  },
  {
   "cell_type": "code",
   "execution_count": 51,
   "metadata": {},
   "outputs": [
    {
     "name": "stdout",
     "output_type": "stream",
     "text": [
      "0\n",
      "1\n",
      "2\n",
      "3\n",
      "4\n",
      "0\n",
      "1\n",
      "2\n",
      "3\n",
      "4\n",
      "0\n",
      "1\n",
      "2\n",
      "3\n",
      "4\n",
      "0\n",
      "1\n",
      "2\n",
      "3\n",
      "4\n",
      "0\n",
      "1\n",
      "2\n",
      "3\n",
      "4\n",
      "25\n"
     ]
    }
   ],
   "source": [
    "aux = 0\n",
    "for i in range(0,5):\n",
    "    for j in range(0,5):\n",
    "        aux += 1 \n",
    "        print(j)\n",
    "print(aux)        "
   ]
  },
  {
   "cell_type": "code",
   "execution_count": 57,
   "metadata": {},
   "outputs": [
    {
     "name": "stdout",
     "output_type": "stream",
     "text": [
      "uno   1\n",
      "dos   2\n",
      "tres   3\n",
      "cuatro   4\n",
      "cinco   5\n"
     ]
    }
   ],
   "source": [
    "lstt = [\"uno\",\"dos\",\"tres\",\"cuatro\",\"cinco\"]\n",
    "lstn = [1,2,3,4,5]\n",
    "\n",
    "for i,j in zip(lstt,lstn):\n",
    "    print(i,\" \",j)"
   ]
  },
  {
   "cell_type": "code",
   "execution_count": 64,
   "metadata": {},
   "outputs": [
    {
     "name": "stdout",
     "output_type": "stream",
     "text": [
      "0 Maiky\n",
      "1 Pupi\n",
      "2 Mateo\n"
     ]
    }
   ],
   "source": [
    " for i,j in enumerate([\"Maiky\",\"Pupi\",\"Mateo\"]):\n",
    "    print(i,j)"
   ]
  },
  {
   "cell_type": "code",
   "execution_count": 66,
   "metadata": {},
   "outputs": [
    {
     "name": "stdout",
     "output_type": "stream",
     "text": [
      "9\n",
      "8\n",
      "7\n",
      "6\n",
      "5\n",
      "4\n",
      "3\n",
      "2\n",
      "1\n",
      "0\n"
     ]
    }
   ],
   "source": [
    "for i in reversed(range(0,10)):\n",
    "    print(i)"
   ]
  },
  {
   "cell_type": "code",
   "execution_count": 1,
   "metadata": {},
   "outputs": [
    {
     "name": "stdout",
     "output_type": "stream",
     "text": [
      "1\n",
      "4\n",
      "5\n",
      "alemania\n",
      "bolivia\n",
      "camerun\n",
      "francia\n",
      "zambia\n"
     ]
    }
   ],
   "source": [
    "datos = [\"zambia\",\"bolivia\",\"camerun\",\"5\",\"alemania\",\"francia\",\"1\",\"4\"]\n",
    "for i in sorted(datos):\n",
    "    print(i)"
   ]
  },
  {
   "cell_type": "markdown",
   "metadata": {},
   "source": [
    "# Ciclo  while"
   ]
  },
  {
   "cell_type": "code",
   "execution_count": 7,
   "metadata": {},
   "outputs": [
    {
     "name": "stdout",
     "output_type": "stream",
     "text": [
      "hola\n",
      "hola\n",
      "hola\n",
      "hola\n",
      "hola\n",
      "hola\n",
      "hola\n",
      "hola\n",
      "hola\n",
      "hola\n",
      "hola\n"
     ]
    }
   ],
   "source": [
    "k = 0\n",
    "while(k <= 10):    \n",
    "    k += 1\n",
    "    print(\"hola\")"
   ]
  },
  {
   "cell_type": "markdown",
   "metadata": {},
   "source": [
    "# Declaraciones break, pass y continue\n",
    "* Sólo sirven para trabajar en ciclos"
   ]
  },
  {
   "cell_type": "markdown",
   "metadata": {},
   "source": [
    "## pass"
   ]
  },
  {
   "cell_type": "code",
   "execution_count": 17,
   "metadata": {},
   "outputs": [],
   "source": [
    "for i in range(0,5):\n",
    "    pass\n",
    "if(True):\n",
    "    pass"
   ]
  },
  {
   "cell_type": "markdown",
   "metadata": {},
   "source": [
    "## break"
   ]
  },
  {
   "cell_type": "code",
   "execution_count": 22,
   "metadata": {},
   "outputs": [
    {
     "name": "stdout",
     "output_type": "stream",
     "text": [
      "i  0\n",
      "i  1\n",
      "i  2\n",
      "i  3\n",
      "i  4\n",
      "i  5\n",
      "listo, pero continua\n",
      "i  6\n",
      "i  7\n",
      "con break se detiene aquí\n"
     ]
    }
   ],
   "source": [
    "for i in range(0,30):\n",
    "    print(\"i \", i)\n",
    "    if(i == 5):\n",
    "        print(\"listo, pero continua\")\n",
    "    elif(i == 7):\n",
    "        print(\"con break se detiene aquí\")\n",
    "        break"
   ]
  },
  {
   "cell_type": "markdown",
   "metadata": {},
   "source": [
    "## Continue"
   ]
  },
  {
   "cell_type": "code",
   "execution_count": 1,
   "metadata": {},
   "outputs": [
    {
     "name": "stdout",
     "output_type": "stream",
     "text": [
      "Encontro la letra:  C\n",
      "Encontro la letra:  u\n",
      "Encontro la letra:  r\n",
      "Encontro la letra:  s\n",
      "Encontro la letra:  o\n",
      "Encontro la letra:   \n",
      "Encontro la letra:  c\n",
      "Encontro la letra:  o\n",
      "Encontro la letra:  m\n",
      "Encontro la letra:  p\n",
      "Encontro la letra:  l\n",
      "Encontro la letra:  t\n",
      "Encontro la letra:  o\n",
      "Encontro la letra:   \n",
      "Encontro la letra:  d\n",
      "Encontro la letra:   \n",
      "Encontro la letra:  p\n",
      "Encontro la letra:  y\n",
      "Encontro la letra:  t\n",
      "Encontro la letra:  h\n",
      "Encontro la letra:  o\n",
      "Encontro la letra:  n\n"
     ]
    }
   ],
   "source": [
    "for i in \"Curso completo de python\":\n",
    "    if i == \"e\":\n",
    "        #pass\n",
    "        continue\n",
    "    print(\"Encontro la letra: \", i)\n",
    "    "
   ]
  }
 ],
 "metadata": {
  "kernelspec": {
   "display_name": "Python 3",
   "language": "python",
   "name": "python3"
  },
  "language_info": {
   "codemirror_mode": {
    "name": "ipython",
    "version": 3
   },
   "file_extension": ".py",
   "mimetype": "text/x-python",
   "name": "python",
   "nbconvert_exporter": "python",
   "pygments_lexer": "ipython3",
   "version": "3.6.5"
  }
 },
 "nbformat": 4,
 "nbformat_minor": 2
}

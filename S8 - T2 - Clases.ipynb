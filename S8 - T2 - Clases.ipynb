{
 "cells": [
  {
   "cell_type": "markdown",
   "metadata": {},
   "source": [
    "# __CLASES__\n",
    "* una clase es un modelo/plantilla que sirve para contruir objetos\n",
    "* objeto = (abstracciones de la vida real) un balon, un carro, una piscina, un avion etc"
   ]
  },
  {
   "cell_type": "code",
   "execution_count": 3,
   "metadata": {},
   "outputs": [
    {
     "name": "stdout",
     "output_type": "stream",
     "text": [
      "Mi primera clase\n"
     ]
    }
   ],
   "source": [
    "class primera_clase:\n",
    "    def mensaje():\n",
    "        print(\"Mi primera clase\")\n",
    "    \n",
    "    mensaje()"
   ]
  },
  {
   "cell_type": "code",
   "execution_count": 9,
   "metadata": {},
   "outputs": [],
   "source": [
    "class ejemplo_con_inicializador:\n",
    "    def __init__(self,nombre, apellido):\n",
    "        self.nombre = nombre\n",
    "        self.apellido = apellido\n",
    "        "
   ]
  },
  {
   "cell_type": "code",
   "execution_count": 12,
   "metadata": {},
   "outputs": [],
   "source": [
    "ej = ejemplo_con_inicializador(\"Juliana\",\"Vargas\")\n",
    "ej2 = ejemplo_con_inicializador(\"Rodrigo\",\"Perez\")"
   ]
  },
  {
   "cell_type": "code",
   "execution_count": 13,
   "metadata": {},
   "outputs": [
    {
     "name": "stdout",
     "output_type": "stream",
     "text": [
      "Juliana Vargas\n"
     ]
    }
   ],
   "source": [
    "print(ej.nombre, ej.apellido)"
   ]
  },
  {
   "cell_type": "code",
   "execution_count": 15,
   "metadata": {},
   "outputs": [
    {
     "name": "stdout",
     "output_type": "stream",
     "text": [
      "Rodrigo Perez\n"
     ]
    }
   ],
   "source": [
    "print(ej2.nombre, ej2.apellido)"
   ]
  },
  {
   "cell_type": "markdown",
   "metadata": {},
   "source": [
    "# Herencia"
   ]
  },
  {
   "cell_type": "code",
   "execution_count": 166,
   "metadata": {},
   "outputs": [],
   "source": [
    "import math as mt\n",
    "class area:\n",
    "    def __init__(self,radio):\n",
    "        self.radio = radio\n",
    "        \n",
    "    x = \"X se heredo de area\"\n",
    "\n",
    "    def cal_area(self):\n",
    "        print(mt.pi * self.radio ** 2)"
   ]
  },
  {
   "cell_type": "code",
   "execution_count": 167,
   "metadata": {},
   "outputs": [],
   "source": [
    "class perimetro:\n",
    "    def __init__(self, radio):\n",
    "        self.radio = radio      \n",
    "               \n",
    "            \n",
    "    def cal_perimetro(self):\n",
    "        print(2*mt.pi * self.radio)              \n",
    "    "
   ]
  },
  {
   "cell_type": "code",
   "execution_count": 168,
   "metadata": {},
   "outputs": [],
   "source": [
    "class circulo(area,perimetro):\n",
    "    def __init__(self,radio,nombre):\n",
    "        self.radio = radio        \n",
    "        self.nombre = nombre\n",
    "        \n",
    "    def msj(self):\n",
    "        print(\"Hola Mundo\")\n",
    "        print(self.nombre)\n",
    "        "
   ]
  },
  {
   "cell_type": "code",
   "execution_count": 170,
   "metadata": {},
   "outputs": [],
   "source": [
    "cr = circulo(20,\"camila\")"
   ]
  },
  {
   "cell_type": "code",
   "execution_count": 171,
   "metadata": {},
   "outputs": [
    {
     "name": "stdout",
     "output_type": "stream",
     "text": [
      "1256.6370614359173\n"
     ]
    }
   ],
   "source": [
    "cr.cal_area()"
   ]
  },
  {
   "cell_type": "code",
   "execution_count": 172,
   "metadata": {},
   "outputs": [
    {
     "name": "stdout",
     "output_type": "stream",
     "text": [
      "Hola Mundo\n",
      "camila\n"
     ]
    }
   ],
   "source": [
    "cr.msj()"
   ]
  },
  {
   "cell_type": "code",
   "execution_count": 173,
   "metadata": {},
   "outputs": [
    {
     "name": "stdout",
     "output_type": "stream",
     "text": [
      "125.66370614359172\n"
     ]
    }
   ],
   "source": [
    "cr.cal_perimetro()"
   ]
  },
  {
   "cell_type": "code",
   "execution_count": 174,
   "metadata": {},
   "outputs": [
    {
     "data": {
      "text/plain": [
       "'X se heredo de area'"
      ]
     },
     "execution_count": 174,
     "metadata": {},
     "output_type": "execute_result"
    }
   ],
   "source": [
    "cr.x"
   ]
  },
  {
   "cell_type": "code",
   "execution_count": null,
   "metadata": {},
   "outputs": [],
   "source": []
  },
  {
   "cell_type": "code",
   "execution_count": null,
   "metadata": {},
   "outputs": [],
   "source": []
  }
 ],
 "metadata": {
  "kernelspec": {
   "display_name": "Python 3",
   "language": "python",
   "name": "python3"
  },
  "language_info": {
   "codemirror_mode": {
    "name": "ipython",
    "version": 3
   },
   "file_extension": ".py",
   "mimetype": "text/x-python",
   "name": "python",
   "nbconvert_exporter": "python",
   "pygments_lexer": "ipython3",
   "version": "3.6.5"
  }
 },
 "nbformat": 4,
 "nbformat_minor": 2
}

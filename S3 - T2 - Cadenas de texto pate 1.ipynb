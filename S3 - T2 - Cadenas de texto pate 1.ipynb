{
 "cells": [
  {
   "cell_type": "markdown",
   "metadata": {},
   "source": [
    "# Cadenas de texto (Strings)"
   ]
  },
  {
   "cell_type": "code",
   "execution_count": 35,
   "metadata": {},
   "outputs": [
    {
     "data": {
      "text/plain": [
       "'2 es un número es una prueba3'"
      ]
     },
     "execution_count": 35,
     "metadata": {},
     "output_type": "execute_result"
    }
   ],
   "source": [
    "cadena = \"2 es un número es una prueba\"\n",
    "cadena + str(3)"
   ]
  },
  {
   "cell_type": "markdown",
   "metadata": {},
   "source": [
    "## Tamaño de cadena len()"
   ]
  },
  {
   "cell_type": "code",
   "execution_count": 9,
   "metadata": {},
   "outputs": [
    {
     "data": {
      "text/plain": [
       "15"
      ]
     },
     "execution_count": 9,
     "metadata": {},
     "output_type": "execute_result"
    }
   ],
   "source": [
    "len(cadena)"
   ]
  },
  {
   "cell_type": "code",
   "execution_count": 15,
   "metadata": {},
   "outputs": [
    {
     "data": {
      "text/plain": [
       "2"
      ]
     },
     "execution_count": 15,
     "metadata": {},
     "output_type": "execute_result"
    }
   ],
   "source": [
    "# Encontrar caracter find()\n",
    "cadena.find(\"e\")"
   ]
  },
  {
   "cell_type": "code",
   "execution_count": 20,
   "metadata": {},
   "outputs": [
    {
     "data": {
      "text/plain": [
       "6"
      ]
     },
     "execution_count": 20,
     "metadata": {},
     "output_type": "execute_result"
    }
   ],
   "source": [
    "cadena.index(\"n\")"
   ]
  },
  {
   "cell_type": "code",
   "execution_count": 31,
   "metadata": {},
   "outputs": [
    {
     "data": {
      "text/plain": [
       "1"
      ]
     },
     "execution_count": 31,
     "metadata": {},
     "output_type": "execute_result"
    }
   ],
   "source": [
    "#para contar count()\n",
    "cadena.count(\"e\")\n",
    "cadena.count(\"es una prueba\")"
   ]
  },
  {
   "cell_type": "code",
   "execution_count": 34,
   "metadata": {},
   "outputs": [
    {
     "data": {
      "text/plain": [
       "'2 es un número es una ejemplo '"
      ]
     },
     "execution_count": 34,
     "metadata": {},
     "output_type": "execute_result"
    }
   ],
   "source": [
    "#remplazar palabra o caracter con replace()\n",
    "cadena.replace(\"prueba\",\"ejemplo\")"
   ]
  },
  {
   "cell_type": "code",
   "execution_count": 41,
   "metadata": {},
   "outputs": [
    {
     "data": {
      "text/plain": [
       "True"
      ]
     },
     "execution_count": 41,
     "metadata": {},
     "output_type": "execute_result"
    }
   ],
   "source": [
    "#validar último caracter de la cadena con endswith()\n",
    "cadena.endswith(\"a\")\n",
    "cadena.endswith(\"prueba\")"
   ]
  },
  {
   "cell_type": "code",
   "execution_count": 45,
   "metadata": {},
   "outputs": [
    {
     "data": {
      "text/plain": [
       "True"
      ]
     },
     "execution_count": 45,
     "metadata": {},
     "output_type": "execute_result"
    }
   ],
   "source": [
    "#Validar si es alfanumerico\n",
    "cadena2 = \"este2018\"\n",
    "cadena2.isalnum()"
   ]
  },
  {
   "cell_type": "code",
   "execution_count": 3,
   "metadata": {},
   "outputs": [
    {
     "data": {
      "text/plain": [
       "True"
      ]
     },
     "execution_count": 3,
     "metadata": {},
     "output_type": "execute_result"
    }
   ],
   "source": [
    "#conocer si todos los valores son alfabeticos con isalpha()\n",
    "cadena3 = \"thisTrue\" #true\n",
    "#cadena3 = \"thisFalse2\" #false\n",
    "cadena3.isalpha()"
   ]
  },
  {
   "cell_type": "code",
   "execution_count": 54,
   "metadata": {},
   "outputs": [
    {
     "data": {
      "text/plain": [
       "'estaban todas en mayusculas'"
      ]
     },
     "execution_count": 54,
     "metadata": {},
     "output_type": "execute_result"
    }
   ],
   "source": [
    "#convertir de mayúscula a minusculas con lower()\n",
    "cadena4 = \"ESTABAN TODAS EN MAYUSCULAS\"\n",
    "cadena4.lower()"
   ]
  },
  {
   "cell_type": "code",
   "execution_count": 57,
   "metadata": {},
   "outputs": [
    {
     "data": {
      "text/plain": [
       "'TODAS ESTABAN EN MINUSCULA'"
      ]
     },
     "execution_count": 57,
     "metadata": {},
     "output_type": "execute_result"
    }
   ],
   "source": [
    "#convertir de minusculas a mayúsculas con upper()\n",
    "cadena5 = \"todas estaban en minuscula\"\n",
    "cadena5.upper()"
   ]
  },
  {
   "cell_type": "code",
   "execution_count": 61,
   "metadata": {},
   "outputs": [
    {
     "name": "stdout",
     "output_type": "stream",
     "text": [
      "LO DEVOLVERA EN MAYÚSCULAS\n",
      "este lo devolvera en minúsculas\n",
      "eStE lO dEVOLvERa CoN AMBAS\n"
     ]
    }
   ],
   "source": [
    "#invertir minusculas a mayúsculas y viceversa con la función swapcase()\n",
    "cad = \"lo devolvera en mayúsculas\"\n",
    "cad2 = \"ESTE LO DEVOLVERA EN MINÚSCULAS\"\n",
    "cad3 = \"EsTe Lo DevolVerA cOn ambas\"\n",
    "print(cad.swapcase())\n",
    "print(cad2.swapcase())\n",
    "print(cad3.swapcase())"
   ]
  },
  {
   "cell_type": "code",
   "execution_count": 64,
   "metadata": {},
   "outputs": [
    {
     "data": {
      "text/plain": [
       "'Esto es un texto de inicio'"
      ]
     },
     "execution_count": 64,
     "metadata": {},
     "output_type": "execute_result"
    }
   ],
   "source": [
    "#Capitalizar una oración\n",
    "cadena6 = \"esto es un texto de inicio\"\n",
    "cadena6.capitalize()"
   ]
  },
  {
   "cell_type": "code",
   "execution_count": 74,
   "metadata": {},
   "outputs": [
    {
     "data": {
      "text/plain": [
       "'       cadena de prueba       '"
      ]
     },
     "execution_count": 74,
     "metadata": {},
     "output_type": "execute_result"
    }
   ],
   "source": [
    "cadena7 = \"cadena de prueba\"\n",
    "len(cadena7)\n",
    "cadena7.center(30,\" \")"
   ]
  },
  {
   "cell_type": "code",
   "execution_count": 78,
   "metadata": {},
   "outputs": [
    {
     "data": {
      "text/plain": [
       "True"
      ]
     },
     "execution_count": 78,
     "metadata": {},
     "output_type": "execute_result"
    }
   ],
   "source": [
    "#conoer si es un titulo o no\n",
    "cadena8 = \"titulo\" #false\n",
    "cadena8 = \"Titulo\" #verdadero\n",
    "cadena8.istitle()"
   ]
  },
  {
   "cell_type": "code",
   "execution_count": 83,
   "metadata": {},
   "outputs": [
    {
     "data": {
      "text/plain": [
       "True"
      ]
     },
     "execution_count": 83,
     "metadata": {},
     "output_type": "execute_result"
    }
   ],
   "source": [
    "#conocer si el texto son solo números con isdigit()\n",
    "cadena9 =  \"dedo\" #false\n",
    "cadena9 =  \"345\" #true\n",
    "cadena9.isdigit()"
   ]
  },
  {
   "cell_type": "code",
   "execution_count": 89,
   "metadata": {},
   "outputs": [
    {
     "data": {
      "text/plain": [
       "False"
      ]
     },
     "execution_count": 89,
     "metadata": {},
     "output_type": "execute_result"
    }
   ],
   "source": [
    "#conocer si TODA la cadena está en minúscula\n",
    "cadena10 = \"esta toda En minúscula\"\n",
    "cadena10.islower()"
   ]
  },
  {
   "cell_type": "code",
   "execution_count": 93,
   "metadata": {},
   "outputs": [
    {
     "data": {
      "text/plain": [
       "True"
      ]
     },
     "execution_count": 93,
     "metadata": {},
     "output_type": "execute_result"
    }
   ],
   "source": [
    "#conocer si TODA la cadena está en mayúscula\n",
    "cadena10 = \"ESTA TODA EN MAYÚSCULA\"\n",
    "cadena10.isupper()"
   ]
  },
  {
   "cell_type": "code",
   "execution_count": 10,
   "metadata": {},
   "outputs": [
    {
     "data": {
      "text/plain": [
       "' en un maestro de python'"
      ]
     },
     "execution_count": 10,
     "metadata": {},
     "output_type": "execute_result"
    }
   ],
   "source": [
    "#particionar una frase para convertirla en una tupla\n",
    "cadena11 = \"te estás convirtiendo en un maestro de python\"\n",
    "tpl = cadena11.partition(\"convirtiendo\")\n",
    "tpl[0]\n",
    "tpl[1]\n",
    "tpl[2]"
   ]
  },
  {
   "cell_type": "code",
   "execution_count": 16,
   "metadata": {},
   "outputs": [
    {
     "name": "stdout",
     "output_type": "stream",
     "text": [
      "uno\n",
      "dos\n",
      "tres\n",
      "cuatro\n"
     ]
    },
    {
     "data": {
      "text/plain": [
       "['uno', 'dos', 'tres', 'cuatro']"
      ]
     },
     "execution_count": 16,
     "metadata": {},
     "output_type": "execute_result"
    }
   ],
   "source": [
    "#convertir cadena por saltos de línea con splitlines()\n",
    "cadena12 = \"uno\\ndos\\ntres\\ncuatro\"\n",
    "print(cadena12)\n",
    "lista = cadena12.splitlines()\n",
    "lista"
   ]
  }
 ],
 "metadata": {
  "kernelspec": {
   "display_name": "Python 3",
   "language": "python",
   "name": "python3"
  },
  "language_info": {
   "codemirror_mode": {
    "name": "ipython",
    "version": 3
   },
   "file_extension": ".py",
   "mimetype": "text/x-python",
   "name": "python",
   "nbconvert_exporter": "python",
   "pygments_lexer": "ipython3",
   "version": "3.6.5"
  }
 },
 "nbformat": 4,
 "nbformat_minor": 2
}

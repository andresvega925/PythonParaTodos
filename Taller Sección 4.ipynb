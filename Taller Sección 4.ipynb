{
 "cells": [
  {
   "cell_type": "markdown",
   "metadata": {},
   "source": [
    "# **__TALLER SECCIÓN 4__**"
   ]
  },
  {
   "cell_type": "markdown",
   "metadata": {},
   "source": [
    "### 1. Cree un ciclo for de n a m y muestre por pantalla el valor de la variable usada como iteradora en cada iteración."
   ]
  },
  {
   "cell_type": "code",
   "execution_count": 10,
   "metadata": {},
   "outputs": [
    {
     "name": "stdout",
     "output_type": "stream",
     "text": [
      "0\n",
      "1\n",
      "2\n",
      "3\n",
      "4\n"
     ]
    }
   ],
   "source": [
    "for i in range(0,5):\n",
    "    print(i)"
   ]
  },
  {
   "cell_type": "markdown",
   "metadata": {},
   "source": [
    "### 2. Cree un ciclo for de 0 a 20, muestre por consola la suma de todos los valores que se toman durante el ciclo. Es decir (0 + 1 + 2 + 3 +…..+ 19)."
   ]
  },
  {
   "cell_type": "code",
   "execution_count": 13,
   "metadata": {},
   "outputs": [
    {
     "name": "stdout",
     "output_type": "stream",
     "text": [
      "190\n"
     ]
    }
   ],
   "source": [
    "aux = 0\n",
    "for i in range(0,20):\n",
    "    aux += i\n",
    "print(aux)"
   ]
  },
  {
   "cell_type": "markdown",
   "metadata": {},
   "source": [
    "### 3. Solicite al usuario ingresar una frase, valide si la frase está toda en mayúsculas, minúsculas o ambas, muestre un mensaje por consola según corresponda. "
   ]
  },
  {
   "cell_type": "code",
   "execution_count": 16,
   "metadata": {},
   "outputs": [
    {
     "name": "stdout",
     "output_type": "stream",
     "text": [
      "Ingrese una frase\n",
      "Esta Es RevueltA\n",
      "Hay caracteres en minúsculas y otros en mayúsculas\n"
     ]
    }
   ],
   "source": [
    "print(\"Ingrese una frase\")\n",
    "fr = input()\n",
    "if(bool(fr.isupper()) == True):\n",
    "    print(\"Todos los caracteres están en mayúsculas\")\n",
    "elif(bool(fr.islower()) == True):\n",
    "    print(\"Todos los caracteres están en minúsculas\")\n",
    "else:\n",
    "    print(\"Hay caracteres en minúsculas y otros en mayúsculas\")"
   ]
  },
  {
   "cell_type": "markdown",
   "metadata": {},
   "source": [
    "### 4. Solicite al usuario los valores de inicio y fin de un ciclo for, muestre por consola los valores de cada iteración. Se debe mostrar el valor exacto que indico el usuario como inicio y como fin."
   ]
  },
  {
   "cell_type": "code",
   "execution_count": 18,
   "metadata": {},
   "outputs": [
    {
     "name": "stdout",
     "output_type": "stream",
     "text": [
      "Ingrese el valor de inicio\n",
      "3\n",
      "Ingrese el valor de final\n",
      "18\n",
      "3\n",
      "4\n",
      "5\n",
      "6\n",
      "7\n",
      "8\n",
      "9\n",
      "10\n",
      "11\n",
      "12\n",
      "13\n",
      "14\n",
      "15\n",
      "16\n",
      "17\n",
      "18\n"
     ]
    }
   ],
   "source": [
    "print(\"Ingrese el valor de inicio\")\n",
    "inicio = int(input())\n",
    "print(\"Ingrese el valor de final\")\n",
    "final = int(input())\n",
    "\n",
    "for i in range(inicio,final+1):\n",
    "    print(i)"
   ]
  },
  {
   "cell_type": "markdown",
   "metadata": {},
   "source": [
    "### 5. Cree un ciclo while y use una variable que incremente de a 1 en cada iteración, dentro del while valide si el número es par y múltiplo de 5 o no, se debe mostrar un mensaje indicando el tipo de número que es. Una vez hayan 20 números pares y múltiplos de 5 el programa se debe detener."
   ]
  },
  {
   "cell_type": "code",
   "execution_count": 19,
   "metadata": {},
   "outputs": [
    {
     "name": "stdout",
     "output_type": "stream",
     "text": [
      "k vale  1  y es impar\n",
      "k vale  2  y es par\n",
      "k vale  3  y es impar\n",
      "k vale  4  y es par\n",
      "k vale  5  es múltiplo de 5\n",
      "k vale  6  y es par\n",
      "k vale  7  y es impar\n",
      "k vale  8  y es par\n",
      "k vale  9  y es impar\n",
      "k vale  10  es múltiplo de 5\n",
      "k vale  11  y es impar\n",
      "k vale  12  y es par\n",
      "k vale  13  y es impar\n",
      "k vale  14  y es par\n",
      "k vale  15  y es impar\n",
      "k vale  16  y es par\n",
      "k vale  17  y es impar\n",
      "k vale  18  y es par\n",
      "k vale  19  y es impar\n",
      "k vale  20  es múltiplo de 5\n",
      "k vale  21  y es impar\n",
      "k vale  22  y es par\n",
      "k vale  23  y es impar\n",
      "k vale  24  y es par\n",
      "k vale  25  y es impar\n",
      "k vale  26  y es par\n",
      "k vale  27  y es impar\n",
      "k vale  28  y es par\n",
      "k vale  29  y es impar\n",
      "k vale  30  es múltiplo de 5\n",
      "k vale  31  y es impar\n",
      "k vale  32  y es par\n",
      "k vale  33  y es impar\n",
      "k vale  34  y es par\n",
      "k vale  35  y es impar\n",
      "k vale  36  y es par\n",
      "k vale  37  y es impar\n",
      "k vale  38  y es par\n",
      "k vale  39  y es impar\n",
      "k vale  40  es múltiplo de 5\n",
      "k vale  41  y es impar\n",
      "k vale  42  y es par\n",
      "k vale  43  y es impar\n",
      "k vale  44  y es par\n",
      "k vale  45  y es impar\n",
      "k vale  46  y es par\n",
      "k vale  47  y es impar\n",
      "k vale  48  y es par\n",
      "k vale  49  y es impar\n",
      "k vale  50  es múltiplo de 5\n",
      "k vale  51  y es impar\n",
      "k vale  52  y es par\n",
      "k vale  53  y es impar\n",
      "k vale  54  y es par\n",
      "k vale  55  y es impar\n",
      "k vale  56  y es par\n",
      "k vale  57  y es impar\n",
      "k vale  58  y es par\n",
      "k vale  59  y es impar\n",
      "k vale  60  es múltiplo de 5\n",
      "k vale  61  y es impar\n",
      "k vale  62  y es par\n",
      "k vale  63  y es impar\n",
      "k vale  64  y es par\n",
      "k vale  65  y es impar\n",
      "k vale  66  y es par\n",
      "k vale  67  y es impar\n",
      "k vale  68  y es par\n",
      "k vale  69  y es impar\n",
      "k vale  70  es múltiplo de 5\n",
      "k vale  71  y es impar\n",
      "k vale  72  y es par\n",
      "k vale  73  y es impar\n",
      "k vale  74  y es par\n",
      "k vale  75  y es impar\n",
      "k vale  76  y es par\n",
      "k vale  77  y es impar\n",
      "k vale  78  y es par\n",
      "k vale  79  y es impar\n",
      "k vale  80  es múltiplo de 5\n",
      "k vale  81  y es impar\n",
      "k vale  82  y es par\n",
      "k vale  83  y es impar\n",
      "k vale  84  y es par\n",
      "k vale  85  y es impar\n",
      "k vale  86  y es par\n",
      "k vale  87  y es impar\n",
      "k vale  88  y es par\n",
      "k vale  89  y es impar\n",
      "k vale  90  es múltiplo de 5\n",
      "k vale  91  y es impar\n",
      "k vale  92  y es par\n",
      "k vale  93  y es impar\n",
      "k vale  94  y es par\n",
      "k vale  95  y es impar\n",
      "k vale  96  y es par\n",
      "k vale  97  y es impar\n",
      "k vale  98  y es par\n",
      "k vale  99  y es impar\n",
      "k vale  100  es múltiplo de 5\n",
      "k vale  101  y es impar\n",
      "k vale  102  y es par\n",
      "k vale  103  y es impar\n",
      "k vale  104  y es par\n",
      "k vale  105  y es impar\n",
      "k vale  106  y es par\n",
      "k vale  107  y es impar\n",
      "k vale  108  y es par\n",
      "k vale  109  y es impar\n",
      "k vale  110  es múltiplo de 5\n",
      "k vale  111  y es impar\n",
      "k vale  112  y es par\n",
      "k vale  113  y es impar\n",
      "k vale  114  y es par\n",
      "k vale  115  y es impar\n",
      "k vale  116  y es par\n",
      "k vale  117  y es impar\n",
      "k vale  118  y es par\n",
      "k vale  119  y es impar\n",
      "k vale  120  es múltiplo de 5\n",
      "k vale  121  y es impar\n",
      "k vale  122  y es par\n",
      "k vale  123  y es impar\n",
      "k vale  124  y es par\n",
      "k vale  125  y es impar\n",
      "k vale  126  y es par\n",
      "k vale  127  y es impar\n",
      "k vale  128  y es par\n",
      "k vale  129  y es impar\n",
      "k vale  130  es múltiplo de 5\n",
      "k vale  131  y es impar\n",
      "k vale  132  y es par\n",
      "k vale  133  y es impar\n",
      "k vale  134  y es par\n",
      "k vale  135  y es impar\n",
      "k vale  136  y es par\n",
      "k vale  137  y es impar\n",
      "k vale  138  y es par\n",
      "k vale  139  y es impar\n",
      "k vale  140  es múltiplo de 5\n",
      "k vale  141  y es impar\n",
      "k vale  142  y es par\n",
      "k vale  143  y es impar\n",
      "k vale  144  y es par\n",
      "k vale  145  y es impar\n",
      "k vale  146  y es par\n",
      "k vale  147  y es impar\n",
      "k vale  148  y es par\n",
      "k vale  149  y es impar\n",
      "k vale  150  es múltiplo de 5\n",
      "k vale  151  y es impar\n",
      "k vale  152  y es par\n",
      "k vale  153  y es impar\n",
      "k vale  154  y es par\n",
      "k vale  155  y es impar\n",
      "k vale  156  y es par\n",
      "k vale  157  y es impar\n",
      "k vale  158  y es par\n",
      "k vale  159  y es impar\n",
      "k vale  160  es múltiplo de 5\n",
      "k vale  161  y es impar\n",
      "k vale  162  y es par\n",
      "k vale  163  y es impar\n",
      "k vale  164  y es par\n",
      "k vale  165  y es impar\n",
      "k vale  166  y es par\n",
      "k vale  167  y es impar\n",
      "k vale  168  y es par\n",
      "k vale  169  y es impar\n",
      "k vale  170  es múltiplo de 5\n",
      "k vale  171  y es impar\n",
      "k vale  172  y es par\n",
      "k vale  173  y es impar\n",
      "k vale  174  y es par\n",
      "k vale  175  y es impar\n",
      "k vale  176  y es par\n",
      "k vale  177  y es impar\n",
      "k vale  178  y es par\n",
      "k vale  179  y es impar\n",
      "k vale  180  es múltiplo de 5\n",
      "k vale  181  y es impar\n",
      "k vale  182  y es par\n",
      "k vale  183  y es impar\n",
      "k vale  184  y es par\n",
      "k vale  185  y es impar\n",
      "k vale  186  y es par\n",
      "k vale  187  y es impar\n",
      "k vale  188  y es par\n",
      "k vale  189  y es impar\n",
      "k vale  190  es múltiplo de 5\n",
      "k vale  191  y es impar\n",
      "k vale  192  y es par\n",
      "k vale  193  y es impar\n",
      "k vale  194  y es par\n",
      "k vale  195  y es impar\n",
      "k vale  196  y es par\n",
      "k vale  197  y es impar\n",
      "k vale  198  y es par\n",
      "k vale  199  y es impar\n",
      "k vale  200  es múltiplo de 5\n"
     ]
    }
   ],
   "source": [
    "i = True\n",
    "par = 0\n",
    "k = 0\n",
    "while(i == True):\n",
    "    if(par == 20):\n",
    "        i = False #para que se detenga el while\n",
    "    else:\n",
    "        k += 1\n",
    "        if(k == 5):\n",
    "            print(\"k vale \", k ,\" es múltiplo de 5\")\n",
    "        else:\n",
    "            if(k%2 == 0):\n",
    "                if(k%5 ==0 ):\n",
    "                    print(\"k vale \", k ,\" es múltiplo de 5\")\n",
    "                    par += 1\n",
    "                else:\n",
    "                    print(\"k vale \", k ,\" y es par\")\n",
    "            else:\n",
    "                print(\"k vale \", k ,\" y es impar\")\n",
    "                    \n",
    "             "
   ]
  },
  {
   "cell_type": "markdown",
   "metadata": {},
   "source": [
    "### 6. Solicite al usuario una frase, recorra dicha frase y haciendo uso de la sentencia “continue” muestre SÓLO las consonantes, en el caso de que la frase tenga símbolos, muéstrelos también."
   ]
  },
  {
   "cell_type": "code",
   "execution_count": 21,
   "metadata": {},
   "outputs": [
    {
     "name": "stdout",
     "output_type": "stream",
     "text": [
      "Ingrese una frase\n",
      "Esto Es Una pruebA\n",
      "s\n",
      "t\n",
      " \n",
      "s\n",
      " \n",
      "n\n",
      " \n",
      "p\n",
      "r\n",
      "b\n"
     ]
    }
   ],
   "source": [
    "print(\"Ingrese una frase\")\n",
    "fr = input()\n",
    "for i in fr:\n",
    "    if(i == \"a\" or i == \"e\" or i == \"i\" or i == \"o\" or i == \"u\" or i == \"A\" or i == \"E\" or i == \"I\" or i == \"O\" or i == \"U\"):\n",
    "        continue\n",
    "    print(i)        \n",
    "        "
   ]
  },
  {
   "cell_type": "markdown",
   "metadata": {},
   "source": [
    "### 7. Solicite o cree una frase, luego muestre sólo los indices multiplos de 3 cada uno con su respectivo carácter. \n",
    "        * Si el caracter es una vocal NO se debe mostra aunque su indice sea múltiplo de 3"
   ]
  },
  {
   "cell_type": "code",
   "execution_count": 23,
   "metadata": {},
   "outputs": [
    {
     "name": "stdout",
     "output_type": "stream",
     "text": [
      "Ingrese una frase\n",
      " Solicite una frase al usuario, valide que la frase solo contenga valores alfabéticos (NO PUEDEN HABER ESPACIOS NI SIMBOLOS) y que su extensión sea mayor o igual a 20 caracteres, se deben realizar las siguientes operaciones.\n",
      "0  \n",
      "3 l\n",
      "9  \n",
      "15 r\n",
      "21 l\n",
      "24 s\n",
      "27 r\n",
      "30 ,\n",
      "36 d\n",
      "39 q\n",
      "42  \n",
      "45  \n",
      "51  \n",
      "54 l\n",
      "57 c\n",
      "60 t\n",
      "63 g\n",
      "66 v\n",
      "72 s\n",
      "75 l\n",
      "78 b\n",
      "84 s\n",
      "87 N\n",
      "90 P\n",
      "93 D\n",
      "96  \n",
      "99 B\n",
      "102  \n",
      "105 P\n",
      "111  \n",
      "114  \n",
      "117 M\n",
      "120 L\n",
      "123 )\n",
      "126  \n",
      "135 x\n",
      "138 n\n",
      "141 ó\n",
      "144 s\n",
      "147  \n",
      "150 y\n",
      "153  \n",
      "165 0\n",
      "171 c\n",
      "174 r\n",
      "177 ,\n",
      "186 n\n",
      "195 r\n",
      "201 s\n",
      "207 n\n",
      "210 s\n",
      "213 p\n",
      "222 s\n"
     ]
    }
   ],
   "source": [
    "print(\"Ingrese una frase\")\n",
    "fr2 = input()\n",
    "for i,j in enumerate(fr2):\n",
    "    if(i%3 == 0):\n",
    "        if(j != \"a\" and j != \"e\" and j != \"i\" and j != \"o\" and j != \"u\" and j != \"A\" and j != \"E\" and j != \"I\" and j != \"O\" and j != \"U\"):\n",
    "            print(i,j)"
   ]
  },
  {
   "cell_type": "markdown",
   "metadata": {},
   "source": [
    "### 8. Solicite una frase al usuario, valide que la frase solo contenga valores alfabéticos (NO PUEDEN HABER ESPACIOS NI SIMBOLOS) y que su extensión sea mayor o igual a 20 caracteres, se deben realizar las siguientes operaciones.\n",
    "\n",
    "* Si no cumple con los requerimientos iniciales se debe mostrar un mensaje al usuario indicando el error.\n",
    "* En caso de que el usuario ingrese una frase que no cumple con los requerimientos el programa no debe terminar, simplemente debe mostrar y solicitar nuevamente al usuario que ingrese una frase.\n",
    "* Se debe mostrar cada carácter indicando si es vocal o consonante\n",
    "* Se debe llevar una cuenta de cuantas vocales hay, una vez se encuentren 5 vocales el ciclo se debe DETENER sin importar si faltan o no caracteres por recorrer"
   ]
  },
  {
   "cell_type": "code",
   "execution_count": 27,
   "metadata": {},
   "outputs": [
    {
     "name": "stdout",
     "output_type": "stream",
     "text": [
      "Ingrese una frase con solo letras y sin espacios\n",
      "estafraseesunpocoextensayaquedebetenerveintecaracteres\n",
      "[ e ]  es vocal\n",
      "[ s ]  es consonanto\n",
      "[ t ]  es consonanto\n",
      "[ a ]  es vocal\n",
      "[ f ]  es consonanto\n",
      "[ r ]  es consonanto\n",
      "[ a ]  es vocal\n",
      "[ s ]  es consonanto\n",
      "[ e ]  es vocal\n",
      "[ e ]  es vocal\n",
      "[ s ]  es consonanto\n",
      "El programa se detuvo porque ya hay cinco vocales\n"
     ]
    }
   ],
   "source": [
    "cump = True\n",
    "voc = 0\n",
    "while(cump == True):\n",
    "    print(\"Ingrese una frase con solo letras y sin espacios\")\n",
    "    fr4 = input()\n",
    "    if(fr4.isalpha() == True):\n",
    "        if(len(fr4) >= 20):\n",
    "            cump = False\n",
    "            for i in fr4:\n",
    "                if(i == \"a\" or i == \"e\" or i == \"i\" or i == \"o\" or i == \"u\" or i == \"A\" or i == \"E\" or i == \"I\" or i == \"O\" or i == \"U\"):\n",
    "                    voc += 1\n",
    "                    if(voc <= 5):\n",
    "                        print(\"[\",i,\"]\", \" es vocal\")\n",
    "                    else:\n",
    "                        print(\"El programa se detuvo porque ya hay cinco vocales\")\n",
    "                        break\n",
    "                else:\n",
    "                    print(\"[\",i,\"]\", \" es consonanto\")                                       \n",
    "        else:\n",
    "            print(\"La frase debe tener al menos 20 caracteres\")\n",
    "    else:\n",
    "        print(\"La frase no debe tener espacios, números o simbolos\")"
   ]
  }
 ],
 "metadata": {
  "kernelspec": {
   "display_name": "Python 3",
   "language": "python",
   "name": "python3"
  },
  "language_info": {
   "codemirror_mode": {
    "name": "ipython",
    "version": 3
   },
   "file_extension": ".py",
   "mimetype": "text/x-python",
   "name": "python",
   "nbconvert_exporter": "python",
   "pygments_lexer": "ipython3",
   "version": "3.6.5"
  }
 },
 "nbformat": 4,
 "nbformat_minor": 2
}

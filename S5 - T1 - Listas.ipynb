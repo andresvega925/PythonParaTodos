{
 "cells": [
  {
   "cell_type": "markdown",
   "metadata": {},
   "source": [
    "# Listas\n",
    "\n",
    "* Una lista es un conjunto de elementos que pueden ser de igual o diferentes tipo, contenidos dentro de una variable.\n",
    "\n",
    "* Puede contener cualquier objeto dentro"
   ]
  },
  {
   "cell_type": "code",
   "execution_count": 13,
   "metadata": {},
   "outputs": [
    {
     "data": {
      "text/plain": [
       "'e'"
      ]
     },
     "execution_count": 13,
     "metadata": {},
     "output_type": "execute_result"
    }
   ],
   "source": [
    "lista = [\"camilo\",\"juan\",24,34]\n",
    "lista2 = [\"perro\",\"gato\",\"pez\",lista]\n",
    "lista2[3][1] #acceder a un indece dentro de una lista que está dentro de otra lista\n",
    "lista2[0][1] "
   ]
  },
  {
   "cell_type": "markdown",
   "metadata": {},
   "source": [
    "### Agregar elemento  al final de la lista con append()"
   ]
  },
  {
   "cell_type": "code",
   "execution_count": 14,
   "metadata": {},
   "outputs": [
    {
     "data": {
      "text/plain": [
       "['perro', 'gato', 'pez', ['camilo', 'juan', 24, 34], 'Lorena']"
      ]
     },
     "execution_count": 14,
     "metadata": {},
     "output_type": "execute_result"
    }
   ],
   "source": [
    "lista2.append(\"Lorena\")\n",
    "lista2"
   ]
  },
  {
   "cell_type": "markdown",
   "metadata": {},
   "source": [
    "### Agregar(insertar) elemento en un determinado indice con insert()\n",
    "* el valor que estaba en el indice indicado, se corre una posición hacia la derecha"
   ]
  },
  {
   "cell_type": "code",
   "execution_count": 17,
   "metadata": {},
   "outputs": [
    {
     "data": {
      "text/plain": [
       "['perro',\n",
       " 'Gorila',\n",
       " 'Gorila',\n",
       " 'Gorila',\n",
       " 'gato',\n",
       " 'pez',\n",
       " ['camilo', 'juan', 24, 34],\n",
       " 'Lorena']"
      ]
     },
     "execution_count": 17,
     "metadata": {},
     "output_type": "execute_result"
    }
   ],
   "source": [
    "lista2.insert(1,\"Gorila\")\n",
    "lista2"
   ]
  },
  {
   "cell_type": "markdown",
   "metadata": {},
   "source": [
    "### Contar cuantas veces se repite un mismo elemento con count()"
   ]
  },
  {
   "cell_type": "code",
   "execution_count": 18,
   "metadata": {},
   "outputs": [
    {
     "data": {
      "text/plain": [
       "3"
      ]
     },
     "execution_count": 18,
     "metadata": {},
     "output_type": "execute_result"
    }
   ],
   "source": [
    "lista2.count(\"Gorila\")"
   ]
  },
  {
   "cell_type": "markdown",
   "metadata": {},
   "source": [
    "### Conocer el indice de un valor con index()"
   ]
  },
  {
   "cell_type": "code",
   "execution_count": 20,
   "metadata": {},
   "outputs": [
    {
     "data": {
      "text/plain": [
       "5"
      ]
     },
     "execution_count": 20,
     "metadata": {},
     "output_type": "execute_result"
    }
   ],
   "source": [
    "lista2.index(\"pez\")"
   ]
  },
  {
   "cell_type": "markdown",
   "metadata": {},
   "source": [
    "### Copiar elementos con copy()\n",
    "* Si se hace con = , se modificara la lista vieja y la nueva, en cambio con copy no se modifica la nueva"
   ]
  },
  {
   "cell_type": "code",
   "execution_count": 26,
   "metadata": {},
   "outputs": [
    {
     "data": {
      "text/plain": [
       "[1, 2, 3, 4, 5]"
      ]
     },
     "execution_count": 26,
     "metadata": {},
     "output_type": "execute_result"
    }
   ],
   "source": [
    "lista_vieja = [1,2,3,4,5,6]\n",
    "lista_nueva = lista_vieja\n",
    "lista_nueva\n",
    "\n",
    "lista_vieja.append(8)\n",
    "lista_nueva\n",
    "\n",
    "list_vieja = [1,2,3,4,5]\n",
    "list_nueva = list_vieja.copy()\n",
    "list_nueva\n",
    "\n",
    "list_vieja.append(12)\n",
    "list_nueva"
   ]
  },
  {
   "cell_type": "code",
   "execution_count": 27,
   "metadata": {},
   "outputs": [
    {
     "data": {
      "text/plain": [
       "[1, 2, 3, 4, 5, 12]"
      ]
     },
     "execution_count": 27,
     "metadata": {},
     "output_type": "execute_result"
    }
   ],
   "source": [
    "list_vieja"
   ]
  },
  {
   "cell_type": "markdown",
   "metadata": {},
   "source": [
    "### Extender es iterar por un string e ir indexando cada carácter por separado con extend()"
   ]
  },
  {
   "cell_type": "code",
   "execution_count": 28,
   "metadata": {},
   "outputs": [
    {
     "data": {
      "text/plain": [
       "['camilo', 'juan', 24, 34, 'p', 'y', 't', 'h', 'o', 'n']"
      ]
     },
     "execution_count": 28,
     "metadata": {},
     "output_type": "execute_result"
    }
   ],
   "source": [
    "lista.extend(\"python\")\n",
    "lista"
   ]
  },
  {
   "cell_type": "markdown",
   "metadata": {},
   "source": [
    "### Eliminar último elemento de la lista y retornarlo con pop()"
   ]
  },
  {
   "cell_type": "code",
   "execution_count": 30,
   "metadata": {},
   "outputs": [
    {
     "data": {
      "text/plain": [
       "'o'"
      ]
     },
     "execution_count": 30,
     "metadata": {},
     "output_type": "execute_result"
    }
   ],
   "source": [
    "rec = lista.pop()\n",
    "rec"
   ]
  },
  {
   "cell_type": "markdown",
   "metadata": {},
   "source": [
    "### Eliminar un valor por propieda, pero sin retornar el valor eliminado con remove()"
   ]
  },
  {
   "cell_type": "code",
   "execution_count": 33,
   "metadata": {},
   "outputs": [],
   "source": [
    "lista3 = [\"uno\",2,\"tres\",4]\n",
    "lista3.remove(\"tres\")"
   ]
  },
  {
   "cell_type": "code",
   "execution_count": 37,
   "metadata": {},
   "outputs": [
    {
     "data": {
      "text/plain": [
       "[4]"
      ]
     },
     "execution_count": 37,
     "metadata": {},
     "output_type": "execute_result"
    }
   ],
   "source": [
    "lista3.remove(2)\n",
    "lista3"
   ]
  },
  {
   "cell_type": "markdown",
   "metadata": {},
   "source": [
    "### Invertir el orden de los elementos de la lista con reverse()"
   ]
  },
  {
   "cell_type": "code",
   "execution_count": 39,
   "metadata": {},
   "outputs": [
    {
     "data": {
      "text/plain": [
       "['Lorena',\n",
       " ['camilo', 'juan', 24, 34, 'p', 'y', 't', 'h'],\n",
       " 'pez',\n",
       " 'gato',\n",
       " 'Gorila',\n",
       " 'Gorila',\n",
       " 'Gorila',\n",
       " 'perro']"
      ]
     },
     "execution_count": 39,
     "metadata": {},
     "output_type": "execute_result"
    }
   ],
   "source": [
    "lista2.reverse()\n",
    "lista2"
   ]
  },
  {
   "cell_type": "markdown",
   "metadata": {},
   "source": [
    "### Ordenar los elementos de una lista, númerica y alfabéticamente con sort()\n",
    "* Tener en cuenta que sean del mismo tipo todos los elementos"
   ]
  },
  {
   "cell_type": "code",
   "execution_count": 5,
   "metadata": {},
   "outputs": [
    {
     "name": "stdout",
     "output_type": "stream",
     "text": [
      "[0, 2, 42, 62, 89, 254, 425, 864]\n",
      "['Alemania', 'Camila', 'Juan', 'Pedro', 'Zion']\n"
     ]
    }
   ],
   "source": [
    "lista_num = [864,89,2,42,0,254,62,425]\n",
    "lista_text = [\"Juan\",\"Camila\",\"Pedro\",\"Zion\",\"Alemania\"]\n",
    "lista_num.sort()\n",
    "lista_text.sort()\n",
    "print(lista_num)\n",
    "print(lista_text)"
   ]
  },
  {
   "cell_type": "markdown",
   "metadata": {},
   "source": [
    "### Eliminar todos los elementos de la lista de una sola vez con clear()"
   ]
  },
  {
   "cell_type": "code",
   "execution_count": 8,
   "metadata": {},
   "outputs": [
    {
     "data": {
      "text/plain": [
       "[]"
      ]
     },
     "execution_count": 8,
     "metadata": {},
     "output_type": "execute_result"
    }
   ],
   "source": [
    "lista_num.clear()\n",
    "lista_num"
   ]
  }
 ],
 "metadata": {
  "kernelspec": {
   "display_name": "Python 3",
   "language": "python",
   "name": "python3"
  },
  "language_info": {
   "codemirror_mode": {
    "name": "ipython",
    "version": 3
   },
   "file_extension": ".py",
   "mimetype": "text/x-python",
   "name": "python",
   "nbconvert_exporter": "python",
   "pygments_lexer": "ipython3",
   "version": "3.6.5"
  }
 },
 "nbformat": 4,
 "nbformat_minor": 2
}

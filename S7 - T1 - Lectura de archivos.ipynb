{
 "cells": [
  {
   "cell_type": "markdown",
   "metadata": {},
   "source": [
    "# Lectura de archivos"
   ]
  },
  {
   "cell_type": "markdown",
   "metadata": {},
   "source": [
    "* **r** Solo lectura\t__Al inicio del archivo__\n",
    "* **rb**\tSolo lectura en modo binario\t__Al inicio del archivo__\n",
    "* **r+**\tLectura y escritura\t__Al inicio del archivo__\n",
    "* **rb+**\tLectura y escritura en modo binario\t__Al inicio del archivo__\n",
    "* **w**\tSolo escritura. __Sobreescribe el archivo si existe. Crea el archivo si no existe\tAl inicio del archivo__\n",
    "* **wb**\tSolo escritura en modo binario. __Sobreescribe el archivo si existe. Crea el archivo si no existe\tAl inicio del archivo__\n",
    "* **w+**\tEscritura y lectura. Sobreescribe el archivo si existe. Crea el archivo si no existe\t__Al inicio del archivo__\n",
    "* **wb+**\tEscritura y lectura en modo binario. Sobreescribe el archivo si existe. Crea el archivo si no existe\t__Al inicio del archivo__\n",
    "* **a**\tAñadido (agregar contenido). Crea el archivo si éste no existe\t__Si el archivo existe, al final de éste. Si el archivo no existe, al comienzo__\n",
    "* **ab**\tAñadido en modo binario (agregar contenido). Crea el archivo si éste no existe\t__Si el archivo existe, al final de éste. Si el archivo no existe, al comienzo__\n",
    "* **a+**\tAñadido (agregar contenido) y lectura. Crea el archivo si éste no existe.\t__Si el archivo existe, al final de éste. Si el archivo no existe, al comienzo__\n",
    "* **ab+**\tAñadido (agregar contenido) y lectura en modo binario. Crea el archivo si éste no existe\t__Si el archivo existe, al final de éste. Si el archivo no existe, al comienzo__"
   ]
  },
  {
   "cell_type": "markdown",
   "metadata": {},
   "source": [
    "## open() , Lectura del archivo"
   ]
  },
  {
   "cell_type": "code",
   "execution_count": 77,
   "metadata": {},
   "outputs": [
    {
     "data": {
      "text/plain": [
       "True"
      ]
     },
     "execution_count": 77,
     "metadata": {},
     "output_type": "execute_result"
    }
   ],
   "source": [
    "file = open(\"Archivos/Ejercicio1.txt\",'r')\n",
    "file.close()\n",
    "file.closed"
   ]
  },
  {
   "cell_type": "code",
   "execution_count": 103,
   "metadata": {},
   "outputs": [],
   "source": [
    "file = open(\"Archivos/Ejercicio1.txt\",'r',encoding='utf-8')\n",
    "#file.read()\n",
    "#file.readline()\n",
    "#file.readlines()"
   ]
  },
  {
   "cell_type": "code",
   "execution_count": 107,
   "metadata": {},
   "outputs": [
    {
     "name": "stdout",
     "output_type": "stream",
     "text": [
      "¡Hola!, soy la primera línea\n",
      "¡Hola!, soy la segunda línea\n",
      "¡Hola!, soy la tercera línea\n",
      "¡Hola!, soy la cuarta línea\n",
      "¡Hola!, soy la quinta línea\n",
      "¡Hola!, soy la sexta línea\n"
     ]
    },
    {
     "data": {
      "text/plain": [
       "False"
      ]
     },
     "execution_count": 107,
     "metadata": {},
     "output_type": "execute_result"
    }
   ],
   "source": [
    "file = open(\"Archivos/Ejercicio1.txt\",'r',encoding='utf-8')\n",
    "for linea in file:\n",
    "    print(linea, end=\"\")\n",
    "file.closed    "
   ]
  },
  {
   "cell_type": "code",
   "execution_count": 109,
   "metadata": {},
   "outputs": [
    {
     "name": "stdout",
     "output_type": "stream",
     "text": [
      "¡Hola!, soy la primera línea\n",
      "¡Hola!, soy la segunda línea\n",
      "¡Hola!, soy la tercera línea\n",
      "¡Hola!, soy la cuarta línea\n",
      "¡Hola!, soy la quinta línea\n",
      "¡Hola!, soy la sexta línea\n"
     ]
    },
    {
     "data": {
      "text/plain": [
       "True"
      ]
     },
     "execution_count": 109,
     "metadata": {},
     "output_type": "execute_result"
    }
   ],
   "source": [
    "with  open(\"Archivos/Ejercicio1.txt\",'r',encoding='utf-8') as file:\n",
    "    for linea in file:\n",
    "        print(linea, end=\"\")\n",
    "file.closed        "
   ]
  },
  {
   "cell_type": "markdown",
   "metadata": {},
   "source": [
    "## Escribir en archivo con write()"
   ]
  },
  {
   "cell_type": "code",
   "execution_count": 41,
   "metadata": {},
   "outputs": [],
   "source": [
    "file = open(\"nuestroprimerarchivo.txt\",'w+')\n",
    "for i in range(0,23):\n",
    "    file.write(\"Este el número \" + str(i) + \"\\n\")\n",
    "file.close()    "
   ]
  },
  {
   "cell_type": "code",
   "execution_count": 42,
   "metadata": {},
   "outputs": [
    {
     "name": "stdout",
     "output_type": "stream",
     "text": [
      "Este el número 0\n",
      "Este el número 1\n",
      "Este el número 2\n",
      "Este el número 3\n",
      "Este el número 4\n",
      "Este el número 5\n",
      "Este el número 6\n",
      "Este el número 7\n",
      "Este el número 8\n",
      "Este el número 9\n",
      "Este el número 10\n",
      "Este el número 11\n",
      "Este el número 12\n",
      "Este el número 13\n",
      "Este el número 14\n",
      "Este el número 15\n",
      "Este el número 16\n",
      "Este el número 17\n",
      "Este el número 18\n",
      "Este el número 19\n",
      "Este el número 20\n",
      "Este el número 21\n",
      "Este el número 22\n"
     ]
    }
   ],
   "source": [
    "def leerMos():\n",
    "    file = open(\"nuestroprimerarchivo.txt\",'r')\n",
    "    for linea in file:\n",
    "        print(linea, end=\"\")\n",
    "leerMos()    "
   ]
  },
  {
   "cell_type": "markdown",
   "metadata": {},
   "source": [
    "## Propiedades del objeto file"
   ]
  },
  {
   "cell_type": "code",
   "execution_count": 44,
   "metadata": {},
   "outputs": [],
   "source": [
    "file = open(\"nuestroprimerarchivo.txt\",'r')"
   ]
  },
  {
   "cell_type": "code",
   "execution_count": 45,
   "metadata": {},
   "outputs": [
    {
     "data": {
      "text/plain": [
       "'nuestroprimerarchivo.txt'"
      ]
     },
     "execution_count": 45,
     "metadata": {},
     "output_type": "execute_result"
    }
   ],
   "source": [
    "file.name"
   ]
  },
  {
   "cell_type": "code",
   "execution_count": 46,
   "metadata": {},
   "outputs": [
    {
     "data": {
      "text/plain": [
       "'r'"
      ]
     },
     "execution_count": 46,
     "metadata": {},
     "output_type": "execute_result"
    }
   ],
   "source": [
    "file.mode"
   ]
  },
  {
   "cell_type": "code",
   "execution_count": 48,
   "metadata": {},
   "outputs": [
    {
     "data": {
      "text/plain": [
       "'cp1252'"
      ]
     },
     "execution_count": 48,
     "metadata": {},
     "output_type": "execute_result"
    }
   ],
   "source": [
    "file.encoding"
   ]
  },
  {
   "cell_type": "code",
   "execution_count": 50,
   "metadata": {},
   "outputs": [
    {
     "data": {
      "text/plain": [
       "False"
      ]
     },
     "execution_count": 50,
     "metadata": {},
     "output_type": "execute_result"
    }
   ],
   "source": [
    "file.closed"
   ]
  }
 ],
 "metadata": {
  "kernelspec": {
   "display_name": "Python 3",
   "language": "python",
   "name": "python3"
  },
  "language_info": {
   "codemirror_mode": {
    "name": "ipython",
    "version": 3
   },
   "file_extension": ".py",
   "mimetype": "text/x-python",
   "name": "python",
   "nbconvert_exporter": "python",
   "pygments_lexer": "ipython3",
   "version": "3.6.5"
  }
 },
 "nbformat": 4,
 "nbformat_minor": 2
}

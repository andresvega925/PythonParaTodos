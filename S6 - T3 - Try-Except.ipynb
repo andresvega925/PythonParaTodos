{
 "cells": [
  {
   "cell_type": "code",
   "execution_count": 4,
   "metadata": {},
   "outputs": [
    {
     "name": "stdout",
     "output_type": "stream",
     "text": [
      "ingres un número\n",
      "Debe ingresar sólo números y deben ser números enteros\n"
     ]
    }
   ],
   "source": [
    "def test():\n",
    "    try:\n",
    "        print(\"ingres un número\")\n",
    "        n = int(input())\n",
    "    except ValueError:\n",
    "        print(\"Debe ingresar sólo números y deben ser números enteros\")\n",
    "    \n",
    "    \n",
    "test()    "
   ]
  }
 ],
 "metadata": {
  "kernelspec": {
   "display_name": "Python 3",
   "language": "python",
   "name": "python3"
  },
  "language_info": {
   "codemirror_mode": {
    "name": "ipython",
    "version": 3
   },
   "file_extension": ".py",
   "mimetype": "text/x-python",
   "name": "python",
   "nbconvert_exporter": "python",
   "pygments_lexer": "ipython3",
   "version": "3.6.5"
  }
 },
 "nbformat": 4,
 "nbformat_minor": 2
}

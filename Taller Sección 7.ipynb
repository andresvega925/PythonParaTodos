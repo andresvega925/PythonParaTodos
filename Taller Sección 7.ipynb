{
 "cells": [
  {
   "cell_type": "markdown",
   "metadata": {},
   "source": [
    "# Taller Sección 7"
   ]
  },
  {
   "cell_type": "markdown",
   "metadata": {},
   "source": [
    "## 1. Cree una archivo en el cual cada línea tenga la siguiente información :\n",
    "* Esta es la línea 0\n",
    "* Esta es la línea 1\n",
    "* Esta es la línea 2\n",
    "* Esta es la línea 3\n",
    "* ……\n",
    "* Esta es la línea n"
   ]
  },
  {
   "cell_type": "code",
   "execution_count": 7,
   "metadata": {},
   "outputs": [],
   "source": [
    "file = open(\"tallerSec7.txt\",'w+')\n",
    "for i in range(0,15):\n",
    "    file.write(\"Esta es la línea \"+str(i)+\"\\n\")\n",
    "file.close()    "
   ]
  },
  {
   "cell_type": "code",
   "execution_count": 8,
   "metadata": {},
   "outputs": [
    {
     "name": "stdout",
     "output_type": "stream",
     "text": [
      "Esta es la línea 0\n",
      "\n",
      "Esta es la línea 1\n",
      "\n",
      "Esta es la línea 2\n",
      "\n",
      "Esta es la línea 3\n",
      "\n",
      "Esta es la línea 4\n",
      "\n",
      "Esta es la línea 5\n",
      "\n",
      "Esta es la línea 6\n",
      "\n",
      "Esta es la línea 7\n",
      "\n",
      "Esta es la línea 8\n",
      "\n",
      "Esta es la línea 9\n",
      "\n",
      "Esta es la línea 10\n",
      "\n",
      "Esta es la línea 11\n",
      "\n",
      "Esta es la línea 12\n",
      "\n",
      "Esta es la línea 13\n",
      "\n",
      "Esta es la línea 14\n",
      "\n"
     ]
    }
   ],
   "source": [
    "file = open(\"tallerSec7.txt\",'r')\n",
    "for i in file:\n",
    "    print(i)"
   ]
  },
  {
   "cell_type": "markdown",
   "metadata": {},
   "source": [
    "## 2.Cree una función que me permita leer y visualizar cualquier archivo enviado por parámetro, también debe recibir el valor del modo en que se desea abrir(r, r+, w…..) debe validar que el modo sea válido y por último también debe recibir la codificación del archivo."
   ]
  },
  {
   "cell_type": "code",
   "execution_count": 5,
   "metadata": {},
   "outputs": [
    {
     "name": "stdout",
     "output_type": "stream",
     "text": [
      "Esta es la línea 0\n",
      "\n",
      "Esta es la línea 1\n",
      "\n",
      "Esta es la línea 2\n",
      "\n",
      "Esta es la línea 3\n",
      "\n",
      "Esta es la línea 4\n",
      "\n",
      "Esta es la línea 5\n",
      "\n",
      "Esta es la línea 6\n",
      "\n",
      "Esta es la línea 7\n",
      "\n",
      "Esta es la línea 8\n",
      "\n",
      "Esta es la línea 9\n",
      "\n",
      "Esta es la línea 10\n",
      "\n",
      "Esta es la línea 11\n",
      "\n",
      "Esta es la línea 12\n",
      "\n",
      "Esta es la línea 13\n",
      "\n",
      "Esta es la línea 14\n",
      "\n"
     ]
    }
   ],
   "source": [
    "def leer(arc,mod=\"r\",cod=\"ISO-8859-15\"):\n",
    "    file = open(arc)\n",
    "    if(mod == \"r\" or mod == \"r+\" or mod == \"rb+\"):\n",
    "        for  i in file:\n",
    "            print(i)        \n",
    "    else:\n",
    "        print(\"Modo de lectura no valido\")\n",
    "leer(\"tallerSec7.txt\")        "
   ]
  },
  {
   "cell_type": "markdown",
   "metadata": {},
   "source": [
    "## 3.Cree una función que me devuelva la cantidad de lineas que tiene un archivo pasado por parametro"
   ]
  },
  {
   "cell_type": "code",
   "execution_count": 11,
   "metadata": {},
   "outputs": [
    {
     "name": "stdout",
     "output_type": "stream",
     "text": [
      "15\n"
     ]
    }
   ],
   "source": [
    "def numlin(arc):\n",
    "    file = open(arc)\n",
    "    numl = len(file.readlines())\n",
    "    return numl\n",
    "print(numlin(\"tallerSec7.txt\"))"
   ]
  }
 ],
 "metadata": {
  "kernelspec": {
   "display_name": "Python 3",
   "language": "python",
   "name": "python3"
  },
  "language_info": {
   "codemirror_mode": {
    "name": "ipython",
    "version": 3
   },
   "file_extension": ".py",
   "mimetype": "text/x-python",
   "name": "python",
   "nbconvert_exporter": "python",
   "pygments_lexer": "ipython3",
   "version": "3.6.5"
  }
 },
 "nbformat": 4,
 "nbformat_minor": 2
}

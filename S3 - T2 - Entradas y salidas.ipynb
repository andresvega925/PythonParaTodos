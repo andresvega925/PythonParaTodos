{
 "cells": [
  {
   "cell_type": "markdown",
   "metadata": {},
   "source": [
    "# Entradas y Salidas"
   ]
  },
  {
   "cell_type": "code",
   "execution_count": 10,
   "metadata": {},
   "outputs": [
    {
     "name": "stdout",
     "output_type": "stream",
     "text": [
      "ingresa un número\n"
     ]
    },
    {
     "name": "stdin",
     "output_type": "stream",
     "text": [
      " 34\n"
     ]
    },
    {
     "name": "stdout",
     "output_type": "stream",
     "text": [
      "El número que ingresaste es:  34\n"
     ]
    },
    {
     "data": {
      "text/plain": [
       "str"
      ]
     },
     "execution_count": 10,
     "metadata": {},
     "output_type": "execute_result"
    }
   ],
   "source": [
    "print(\"ingresa un número\")\n",
    "num = input()  #recibir strings\n",
    "#num = float(input()) #recibir .flotantes\n",
    "#num = int(input()) #recibis sólo enteros\n",
    "print(\"El número que ingresaste es: \", num)\n",
    "type(num)"
   ]
  },
  {
   "cell_type": "markdown",
   "metadata": {},
   "source": [
    "## Literales de cadena con formato - Salidas con f'{}  - f,F"
   ]
  },
  {
   "cell_type": "code",
   "execution_count": 16,
   "metadata": {},
   "outputs": [
    {
     "name": "stdout",
     "output_type": "stream",
     "text": [
      "Estás en el curso de programación en python\n"
     ]
    }
   ],
   "source": [
    "F'Estás en el curso de programación en python'\n",
    "print(F'Estás en el curso de programación en python')"
   ]
  },
  {
   "cell_type": "code",
   "execution_count": 19,
   "metadata": {},
   "outputs": [
    {
     "data": {
      "text/plain": [
       "'este es el curso de python y es de nivel cero a avanzado'"
      ]
     },
     "execution_count": 19,
     "metadata": {},
     "output_type": "execute_result"
    }
   ],
   "source": [
    "curso = \"python\"\n",
    "nivel = \"avanzado\"\n",
    "f'este es el curso de {curso} y es de nivel cero a {nivel}'"
   ]
  },
  {
   "cell_type": "markdown",
   "metadata": {},
   "source": [
    "# str.format()"
   ]
  },
  {
   "cell_type": "code",
   "execution_count": 24,
   "metadata": {},
   "outputs": [
    {
     "name": "stdout",
     "output_type": "stream",
     "text": [
      "usando el método str.format()! \n",
      "este es el número uno y este otro número y es el dos\n"
     ]
    }
   ],
   "source": [
    "print(\"usando el método {} \".format(\"str.format()!\"))\n",
    "var = \"uno\" \n",
    "var2 = \"dos\" \n",
    "print(\"este es el número {} y este otro número y es el {}\".format(var,var2))"
   ]
  },
  {
   "cell_type": "code",
   "execution_count": 28,
   "metadata": {},
   "outputs": [
    {
     "name": "stdout",
     "output_type": "stream",
     "text": [
      "     1      1      1\n",
      "     2      4      8\n",
      "     3      9     27\n",
      "     4     16     64\n",
      "     5     25    125\n",
      "     6     36    216\n",
      "     7     49    343\n",
      "     8     64    512\n",
      "     9     81    729\n"
     ]
    }
   ],
   "source": [
    "for k in range(1,10):\n",
    "    print(\"{:6d} {:6d} {:6d}\".format(k,k**2,k**3))"
   ]
  },
  {
   "cell_type": "markdown",
   "metadata": {},
   "source": [
    "# Definir variables dentro de format()"
   ]
  },
  {
   "cell_type": "code",
   "execution_count": 33,
   "metadata": {},
   "outputs": [
    {
     "name": "stdout",
     "output_type": "stream",
     "text": [
      "curso profesional de python de principiante a avanzado\n"
     ]
    }
   ],
   "source": [
    "print(\"curso profesional de {nom} de principiante a {nivel}\".format(nom=\"python\",nivel=\"avanzado\"))"
   ]
  },
  {
   "cell_type": "markdown",
   "metadata": {},
   "source": [
    "# Asignar valores a literales  de cadena {} por indice"
   ]
  },
  {
   "cell_type": "code",
   "execution_count": 32,
   "metadata": {},
   "outputs": [
    {
     "name": "stdout",
     "output_type": "stream",
     "text": [
      "maiky es un gato y pupi es un perro\n"
     ]
    }
   ],
   "source": [
    "print(\"maiky es un {1} y pupi es un {0}\".format(\"perro\",\"gato\"))"
   ]
  },
  {
   "cell_type": "markdown",
   "metadata": {},
   "source": [
    "## aplicar espacios desde los literales de cadena {:n}   n= número de espacios\n",
    "* d\tEntero decimal\n",
    "* c\tcorresponde al caracter unicode\n",
    "* b\tformato binario\n",
    "* o\tformato ocatl\n",
    "* x\tformato Hexadecimal (lower case)\n",
    "* X\tformato Hexadecimal (upper case)\n",
    "* n Igual que 'd'. Excepto que utiliza la configuración regional actual para el separador de números\n",
    "* e\tNotación exponencial (lowercase e)\n",
    "* E\tNotación exponencial (uppercase E)\n",
    "* f\tMuestra el número de punto fijo (Predeterminado: 6)\n",
    "* F\tIgual que 'f'. Excepto las pantallas 'inf' como 'INF' y 'nan' como 'NAN'\n",
    "* g\tFormato general. Redondea el número a p dígitos significativos. (Precisión por defecto: 6)\n",
    "* G\tIgual que 'g'. Excepto cambia a 'E' si el número es grande.\n",
    "* %\tPorcentaje. Se multiplica por 100 y se pone% al final."
   ]
  },
  {
   "cell_type": "code",
   "execution_count": 34,
   "metadata": {},
   "outputs": [
    {
     "name": "stdout",
     "output_type": "stream",
     "text": [
      "juan       ==>         97\n",
      "juan       ==>  97.000000\n",
      "juan       ==> 9700.000000%\n",
      "juan       ==> 9.700000e+01\n",
      "camilo     ==>         23\n",
      "camilo     ==>  23.000000\n",
      "camilo     ==> 2300.000000%\n",
      "camilo     ==> 2.300000e+01\n",
      "lorena     ==>         34\n",
      "lorena     ==>  34.000000\n",
      "lorena     ==> 3400.000000%\n",
      "lorena     ==> 3.400000e+01\n"
     ]
    }
   ],
   "source": [
    "dic = {\"juan\":97,\"camilo\":23,\"lorena\":34}\n",
    "for name, age in dic.items():\n",
    "    print(f'{name:10} ==> {age:10n}')\n",
    "    print(f'{name:10} ==> {age:10f}')\n",
    "    print(f'{name:10} ==> {age:10%}')\n",
    "    print(f'{name:10} ==> {age:10e}')"
   ]
  }
 ],
 "metadata": {
  "kernelspec": {
   "display_name": "Python 3",
   "language": "python",
   "name": "python3"
  },
  "language_info": {
   "codemirror_mode": {
    "name": "ipython",
    "version": 3
   },
   "file_extension": ".py",
   "mimetype": "text/x-python",
   "name": "python",
   "nbconvert_exporter": "python",
   "pygments_lexer": "ipython3",
   "version": "3.7.0"
  }
 },
 "nbformat": 4,
 "nbformat_minor": 2
}

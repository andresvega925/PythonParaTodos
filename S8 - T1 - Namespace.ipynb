{
 "cells": [
  {
   "cell_type": "markdown",
   "metadata": {},
   "source": [
    "# Definir variables locales, semi-locales/globales(nonlocal) y globales\n",
    "## Variables globales\n",
    "* En Python, una variable declarada fuera de la función o en el ámbito global se conoce como variable global. Esto significa que se puede acceder a la variable global dentro o fuera de la función.\n",
    "# Namespace\n",
    "\n",
    "* El ámbito más interno, que se busca primero, contiene los nombres locales\n",
    "* los ámbitos de cualquier función de cierre, que se buscan a partir del alcance de cierre más cercano, contienen nombres no locales, pero también no globales\n",
    "* El alcance del siguiente al último contiene los nombres globales del módulo actual"
   ]
  },
  {
   "cell_type": "code",
   "execution_count": 7,
   "metadata": {},
   "outputs": [
    {
     "name": "stdout",
     "output_type": "stream",
     "text": [
      "var_global \n"
     ]
    }
   ],
   "source": [
    "x = \"var_global \"\n",
    "def test():\n",
    "    print(x)\n",
    "    \n",
    "test()    "
   ]
  },
  {
   "cell_type": "code",
   "execution_count": 11,
   "metadata": {},
   "outputs": [
    {
     "name": "stdout",
     "output_type": "stream",
     "text": [
      "var_global var_global var_global var_global var_global var_global var_global var_global var_global var_global var_global var_global var_global var_global var_global var_global \n",
      "var_global var_global var_global var_global var_global var_global var_global var_global var_global var_global var_global var_global var_global var_global var_global var_global \n"
     ]
    }
   ],
   "source": [
    "def test2():\n",
    "    global x\n",
    "    x = x * 2\n",
    "    print(x)\n",
    "\n",
    "def test3():    \n",
    "    print(x)\n",
    "    \n",
    "test2()\n",
    "test3()"
   ]
  },
  {
   "cell_type": "code",
   "execution_count": 17,
   "metadata": {},
   "outputs": [
    {
     "name": "stdout",
     "output_type": "stream",
     "text": [
      "local local \n"
     ]
    },
    {
     "ename": "NameError",
     "evalue": "name 'var' is not defined",
     "output_type": "error",
     "traceback": [
      "\u001b[1;31m---------------------------------------------------------------------------\u001b[0m",
      "\u001b[1;31mNameError\u001b[0m                                 Traceback (most recent call last)",
      "\u001b[1;32m<ipython-input-17-47f1efdcf257>\u001b[0m in \u001b[0;36m<module>\u001b[1;34m()\u001b[0m\n\u001b[0;32m      5\u001b[0m \u001b[1;33m\u001b[0m\u001b[0m\n\u001b[0;32m      6\u001b[0m \u001b[0mtest4\u001b[0m\u001b[1;33m(\u001b[0m\u001b[1;33m)\u001b[0m\u001b[1;33m\u001b[0m\u001b[0m\n\u001b[1;32m----> 7\u001b[1;33m \u001b[0mprint\u001b[0m\u001b[1;33m(\u001b[0m\u001b[1;34m\"desde afuera\"\u001b[0m\u001b[1;33m,\u001b[0m \u001b[0mvar\u001b[0m\u001b[1;33m)\u001b[0m\u001b[1;33m\u001b[0m\u001b[0m\n\u001b[0m",
      "\u001b[1;31mNameError\u001b[0m: name 'var' is not defined"
     ]
    }
   ],
   "source": [
    "def test4():\n",
    "    var = \"local \"    \n",
    "    var = var * 2    \n",
    "    print(var)\n",
    "    \n",
    "test4()    \n",
    "print(\"desde afuera\", var)"
   ]
  },
  {
   "cell_type": "code",
   "execution_count": 20,
   "metadata": {},
   "outputs": [
    {
     "name": "stdout",
     "output_type": "stream",
     "text": [
      "después de fun_local()  Mensaje general\n",
      "después de fun_non_local()  nonlocal\n",
      "después de fun_global()  nonlocal\n",
      "después de prueba()  global\n"
     ]
    }
   ],
   "source": [
    "def prueba():\n",
    "    def fun_local():\n",
    "        msj = \"local\"\n",
    "    def fun_non_local():\n",
    "        nonlocal msj\n",
    "        msj = \"nonlocal\"\n",
    "    def fun_global():\n",
    "        global msj\n",
    "        msj = \"global\"\n",
    "\n",
    "    msj = \"Mensaje general\"\n",
    "    fun_local()\n",
    "    print(\"después de fun_local() \", msj)\n",
    "    fun_non_local()\n",
    "    print(\"después de fun_non_local() \", msj)\n",
    "    fun_global()\n",
    "    print(\"después de fun_global() \", msj)\n",
    "prueba()\n",
    "print(\"después de prueba() \",msj)"
   ]
  }
 ],
 "metadata": {
  "kernelspec": {
   "display_name": "Python 3",
   "language": "python",
   "name": "python3"
  },
  "language_info": {
   "codemirror_mode": {
    "name": "ipython",
    "version": 3
   },
   "file_extension": ".py",
   "mimetype": "text/x-python",
   "name": "python",
   "nbconvert_exporter": "python",
   "pygments_lexer": "ipython3",
   "version": "3.6.5"
  }
 },
 "nbformat": 4,
 "nbformat_minor": 2
}

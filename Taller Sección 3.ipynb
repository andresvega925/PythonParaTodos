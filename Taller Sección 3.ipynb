{
 "cells": [
  {
   "cell_type": "markdown",
   "metadata": {},
   "source": [
    "# TALLER SECCIÓN 3"
   ]
  },
  {
   "cell_type": "markdown",
   "metadata": {},
   "source": [
    "### 1. Convierta una frase a mayúsculas."
   ]
  },
  {
   "cell_type": "code",
   "execution_count": 10,
   "metadata": {},
   "outputs": [
    {
     "name": "stdout",
     "output_type": "stream",
     "text": [
      "ESTA ES UNA FRASE DE PRUEBA\n"
     ]
    }
   ],
   "source": [
    "fr1 = \"Esta es una frase de prueba\"\n",
    "fr1 = fr1.upper()\n",
    "print(fr1)"
   ]
  },
  {
   "cell_type": "markdown",
   "metadata": {},
   "source": [
    "### 2. Convierta las letras de una oración de minúsculas a mayúsculas y viceversa."
   ]
  },
  {
   "cell_type": "code",
   "execution_count": 11,
   "metadata": {},
   "outputs": [
    {
     "name": "stdout",
     "output_type": "stream",
     "text": [
      "eSTA ES oTRa fRaSE dE pRUEBa ENTRE mINÚSCULAS Y mAYÚSCUlAs\n"
     ]
    }
   ],
   "source": [
    "fr2 = \"Esta es OtrA FrAse De PruebA entre Minúsculas y MayúscuLaS\"\n",
    "fr2 = fr2.swapcase()\n",
    "print(fr2)"
   ]
  },
  {
   "cell_type": "markdown",
   "metadata": {},
   "source": [
    "### 3. Cree una variable con el siguiente contenido: “Este es el primer ejercicio del curso de python”; Luego haciendo uso del método más conveniente cambie la palabra “ejercicio” por “taller” y la palabra “python” por “PYTHON”"
   ]
  },
  {
   "cell_type": "code",
   "execution_count": 12,
   "metadata": {},
   "outputs": [
    {
     "name": "stdout",
     "output_type": "stream",
     "text": [
      "Este es el primer taller del curso de PYTHON\n"
     ]
    }
   ],
   "source": [
    "fr3 = \"Este es el primer ejercicio del curso de python\"\n",
    "fr3 = fr3.replace(\"ejercicio\",\"taller\")\n",
    "fr3 = fr3.replace(\"python\",\"PYTHON\")\n",
    "print(fr3)"
   ]
  },
  {
   "cell_type": "markdown",
   "metadata": {},
   "source": [
    "### 5. Solicite al usuario que ingrese dos números y con dichos números realice las operaciones matemáticas básicas, muestre por consola cada uno de los resultados"
   ]
  },
  {
   "cell_type": "code",
   "execution_count": 16,
   "metadata": {},
   "outputs": [
    {
     "name": "stdout",
     "output_type": "stream",
     "text": [
      "Ingrese un número\n",
      "33\n",
      "Ingrese otro número\n",
      "34\n",
      "suma : 67.0\n",
      "resta : -1.0\n",
      "producto : 1122.0\n",
      "división : 0.9705882352941176\n",
      "división entera : 0.0\n",
      "modulo : 33.0\n",
      "exponente : 4.2606313228961136e+51\n"
     ]
    }
   ],
   "source": [
    "print(\"Ingrese un número\")\n",
    "num1 = float(input())\n",
    "print(\"Ingrese otro número\")\n",
    "num2 = float(input())\n",
    "suma = num1 + num2\n",
    "resta = num1 - num2\n",
    "producto = num1 * num2\n",
    "division = num1 / num2\n",
    "divEnte = num1 // num2\n",
    "modulo = num1 % num2\n",
    "exponente = num1 ** num2\n",
    "print(\"suma :\", suma)\n",
    "print(\"resta :\", resta)\n",
    "print(\"producto :\", producto)\n",
    "print(\"división :\", division)\n",
    "print(\"división entera :\", divEnte)\n",
    "print(\"modulo :\",modulo)\n",
    "print(\"exponente :\", exponente)"
   ]
  },
  {
   "cell_type": "markdown",
   "metadata": {},
   "source": [
    "### 6. Muestre al usuario una frase, luego solicítele que digite el último carácter de la frase, valide si el usuario acertó o no"
   ]
  },
  {
   "cell_type": "code",
   "execution_count": 4,
   "metadata": {},
   "outputs": [
    {
     "name": "stdout",
     "output_type": "stream",
     "text": [
      "Ingrese el último caracter de la frase de arriba\n",
      "fácil!\n",
      "Tu respuesta es:  True\n"
     ]
    }
   ],
   "source": [
    "fr5 = \"¡Este taller está demasiado fácil!\"\n",
    "print(\"Ingrese el último caracter de la frase de arriba\")\n",
    "car = input()\n",
    "print(\"Tu respuesta es: \", fr5.endswith(car))"
   ]
  },
  {
   "cell_type": "markdown",
   "metadata": {},
   "source": [
    "### 7. Solicite una frase al usuario y muestre un mensaje a través de consola indicando la cantidad de caracteres que tiene la susodicha frase."
   ]
  },
  {
   "cell_type": "code",
   "execution_count": 5,
   "metadata": {},
   "outputs": [
    {
     "name": "stdout",
     "output_type": "stream",
     "text": [
      "Ingrese una frase\n",
      "esta es una siimple frase de prueba\n",
      "Su frase tiene  35  caracteres\n"
     ]
    }
   ],
   "source": [
    "print(\"Ingrese una frase\")\n",
    "fr6 = input()\n",
    "print(\"Su frase tiene \", len(fr6) , \" caracteres\")"
   ]
  },
  {
   "cell_type": "markdown",
   "metadata": {},
   "source": [
    "### 8. Solicite una frase y céntrela; El valor para centrarla debe ser el doble de la cantidad de caracteres de la frase y el separador debe ser un espacio en blanco."
   ]
  },
  {
   "cell_type": "code",
   "execution_count": 12,
   "metadata": {},
   "outputs": [
    {
     "name": "stdout",
     "output_type": "stream",
     "text": [
      "Ingrese una frase\n",
      "esta es una frase de prueba\n",
      "             esta es una frase de prueba              \n"
     ]
    }
   ],
   "source": [
    "print(\"Ingrese una frase\")\n",
    "fr7 = input()\n",
    "cent = len(fr7) * 2\n",
    "fr7 = fr7.center(cent, \" \")\n",
    "print(fr7)"
   ]
  }
 ],
 "metadata": {
  "kernelspec": {
   "display_name": "Python 3",
   "language": "python",
   "name": "python3"
  }
 },
 "nbformat": 4,
 "nbformat_minor": 2
}

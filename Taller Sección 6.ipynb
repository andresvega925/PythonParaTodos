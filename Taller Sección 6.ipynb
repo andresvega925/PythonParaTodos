{
 "cells": [
  {
   "cell_type": "markdown",
   "metadata": {},
   "source": [
    "# Taller 6"
   ]
  },
  {
   "cell_type": "markdown",
   "metadata": {},
   "source": [
    "## 1.Crear una función que reciba dos números y muestre los números que hay entre ellos. Si el primer número ingresado es mayor que el segundo, se debe intercambiar el valor de los números."
   ]
  },
  {
   "cell_type": "code",
   "execution_count": 8,
   "metadata": {},
   "outputs": [
    {
     "name": "stdout",
     "output_type": "stream",
     "text": [
      "6\n",
      "7\n",
      "8\n",
      "9\n",
      "10\n",
      "11\n",
      "12\n",
      "13\n",
      "14\n",
      "15\n",
      "16\n",
      "17\n",
      "18\n",
      "19\n"
     ]
    }
   ],
   "source": [
    "def entre(a,b):\n",
    "    if(a > b):\n",
    "        aux = a\n",
    "        a = b\n",
    "        b = aux\n",
    "        for i in range(a+1,b):\n",
    "            print(i)\n",
    "    else:\n",
    "        for i in range(a+1,b):\n",
    "            print(i)\n",
    "            \n",
    "entre(20,5)                "
   ]
  },
  {
   "cell_type": "markdown",
   "metadata": {},
   "source": [
    "## 2.Haciendo uso de funciones cree un algoritmo que haga las operaciones de suma y multiplicación, el usuario debe decidir cuantos valores desea sumar o multiplicar, la función encargada de las operaciones debe retornar el valor según corresponda. El programa debe terminar hasta que el usuario lo indique.\n"
   ]
  },
  {
   "cell_type": "code",
   "execution_count": null,
   "metadata": {},
   "outputs": [
    {
     "name": "stdout",
     "output_type": "stream",
     "text": [
      "[1] Suma \n",
      "[2] Multiplicación \n",
      "[3] Salir\n",
      "¡Opción no valida!\n",
      "None\n",
      "[1] Suma \n",
      "[2] Multiplicación \n",
      "[3] Salir\n"
     ]
    }
   ],
   "source": [
    "def operaciones():\n",
    "    print(\"[1] Suma \\n[2] Multiplicación \\n[3] Salir\")\n",
    "    opr = int(input())\n",
    "    aux = 0\n",
    "    if(opr == 1):\n",
    "        print(\"Cuántos valores desea sumar\")\n",
    "        cant = int(input())\n",
    "        for i in range(0,cant):\n",
    "            print(\"Ingrese un valor\")\n",
    "            val = int(input())\n",
    "            aux = aux + val\n",
    "        return \"Suma = \",aux\n",
    "    elif(opr == 2):\n",
    "        print(\"Cuántos valores desea multiplicar\")\n",
    "        cant = int(input())\n",
    "        aux = 1\n",
    "        for i in range(0,cant):\n",
    "            print(\"Ingrese un valor\")\n",
    "            val = int(input())\n",
    "            aux = aux * val\n",
    "        return \"Producto = \",aux\n",
    "        \n",
    "    elif(opr == 3):\n",
    "        return -1\n",
    "    else:\n",
    "        print(\"¡Opción no valida!\")\n",
    "\n",
    "\n",
    "def main():\n",
    "    ejec = True\n",
    "    while(ejec):\n",
    "        rta = operaciones()\n",
    "        if(rta == -1):\n",
    "            ejec = False\n",
    "        else:\n",
    "            print(rta)\n",
    "main()            "
   ]
  },
  {
   "cell_type": "markdown",
   "metadata": {},
   "source": [
    "## 3.Cree una función que reciba un parámetro, y calcule su factorial, la función debe retornar el resultado"
   ]
  },
  {
   "cell_type": "code",
   "execution_count": 6,
   "metadata": {},
   "outputs": [
    {
     "name": "stdout",
     "output_type": "stream",
     "text": [
      "5040\n"
     ]
    }
   ],
   "source": [
    "def factorial(num):\n",
    "    rta = num\n",
    "    for i in range(num-1,0,-1):\n",
    "        rta = rta * i\n",
    "    return rta\n",
    "print(factorial(7))"
   ]
  },
  {
   "cell_type": "code",
   "execution_count": 12,
   "metadata": {},
   "outputs": [
    {
     "name": "stdout",
     "output_type": "stream",
     "text": [
      "5 * 4\n",
      "20 * 3\n",
      "60 * 2\n",
      "120 * 1\n"
     ]
    },
    {
     "data": {
      "text/plain": [
       "120"
      ]
     },
     "execution_count": 12,
     "metadata": {},
     "output_type": "execute_result"
    }
   ],
   "source": [
    "def fact(num):\n",
    "    rta = num\n",
    "    for i in reversed(range(1,num)):\n",
    "        print(rta,\"*\",i)\n",
    "        rta = rta * i\n",
    "    return rta\n",
    "fact(5)"
   ]
  }
 ],
 "metadata": {
  "kernelspec": {
   "display_name": "Python 3",
   "language": "python",
   "name": "python3"
  },
  "language_info": {
   "codemirror_mode": {
    "name": "ipython",
    "version": 3
   },
   "file_extension": ".py",
   "mimetype": "text/x-python",
   "name": "python",
   "nbconvert_exporter": "python",
   "pygments_lexer": "ipython3",
   "version": "3.6.5"
  }
 },
 "nbformat": 4,
 "nbformat_minor": 2
}
